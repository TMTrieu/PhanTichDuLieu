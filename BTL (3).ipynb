{
 "cells": [
  {
   "cell_type": "markdown",
   "id": "c881326c-728e-46dc-80fe-225565d7a05b",
   "metadata": {},
   "source": [
    "### Bước 1: Import thư viện"
   ]
  },
  {
   "cell_type": "code",
   "execution_count": 16,
   "id": "d1457d15-ccff-4022-8646-103473b576d1",
   "metadata": {},
   "outputs": [],
   "source": [
    "import pandas as pd\n",
    "import numpy as np\n",
    "import os\n",
    "import seaborn as sns\n",
    "from sklearn.feature_extraction.text import TfidfVectorizer\n",
    "from sklearn.model_selection import train_test_split\n",
    "from sklearn.metrics import classification_report, accuracy_score, precision_score, recall_score, f1_score\n",
    "import matplotlib.pyplot as plt\n",
    "import re\n",
    "from nltk.corpus import stopwords\n",
    "import nltk\n"
   ]
  },
  {
   "cell_type": "markdown",
   "id": "652bf638-a23b-4e63-8a1b-b2ddc7b16e63",
   "metadata": {},
   "source": [
    "### Bước 2: Nhập dữ liệu"
   ]
  },
  {
   "cell_type": "code",
   "execution_count": 17,
   "id": "03ed8ae8-4152-4f42-9b3c-767ad179a5ab",
   "metadata": {},
   "outputs": [],
   "source": [
    "def ImportData (TenData):\n",
    "    fsentiment= open(\"Data/\"+ TenData+\"/sentiments.txt\",\"r\", encoding = \"utf-8\").read().splitlines()\n",
    "    fsents= open(\"Data/\"+ TenData+\"/sents.txt\",\"r\", encoding = \"utf-8\").read().splitlines()\n",
    "    ftopics= open(\"Data/\"+ TenData+\"/topics.txt\",\"r\", encoding = \"utf-8\").read().splitlines()\n",
    "    TenFile= TenData+\"_df\"\n",
    "    TenFile = pd.DataFrame({\"topics\":ftopics,\"sentences\": fsents,\"sentiments\": fsentiment})\n",
    "    return TenFile\n",
    "train_df = ImportData(\"train\")\n",
    "test_df = ImportData(\"test\")\n",
    "val_df = ImportData(\"dev\")\n",
    "#       '0' is negative polarity.\n",
    "#\t\t'1' is neutral polarity.\n",
    "#\t\t'2' is positive polarity.\n",
    "\n",
    "#       '0' is a label related to the lecturer topic.\n",
    "#       '1' is a label related to the training program topic.\n",
    "#       '2' is a label related to the facility topic.\n",
    "#       '3' is a label related to others."
   ]
  },
  {
   "cell_type": "markdown",
   "id": "4f868749-0163-418e-a972-2ece97ada147",
   "metadata": {},
   "source": [
    "### Bước 3: Kiểm tra dữ liệu"
   ]
  },
  {
   "cell_type": "code",
   "execution_count": 18,
   "id": "cebafd64-972d-46dd-ac73-dfde9ae935a1",
   "metadata": {},
   "outputs": [
    {
     "name": "stdout",
     "output_type": "stream",
     "text": [
      "Kiểm tra dữ liệu có bị thiếu:\n",
      "\n",
      "File test:\n",
      " topics        0\n",
      "sentences     0\n",
      "sentiments    0\n",
      "dtype: int64\n",
      "File train:\n",
      " topics        0\n",
      "sentences     0\n",
      "sentiments    0\n",
      "dtype: int64\n",
      "File valid:\n",
      " topics        0\n",
      "sentences     0\n",
      "sentiments    0\n",
      "dtype: int64\n",
      "\n",
      "Kiểm tra kiểu dữ liệu: \n",
      " topics        object\n",
      "sentences     object\n",
      "sentiments    object\n",
      "dtype: object\n",
      "\n",
      "Kiểm tra sự trùng lặp giữa tập train, test, valid\n",
      "\n",
      "0\n"
     ]
    }
   ],
   "source": [
    "print(\"Kiểm tra dữ liệu có bị thiếu:\\n\")\n",
    "print(\"File test:\\n\", test_df.isna().sum())\n",
    "print(\"File train:\\n\", train_df.isna().sum())\n",
    "print(\"File valid:\\n\", val_df.isna().sum())\n",
    "\n",
    "print(\"\\nKiểm tra kiểu dữ liệu: \\n\",train_df.dtypes)\n",
    "\n",
    "print(\"\\nKiểm tra sự trùng lặp giữa tập train, test, valid\\n\")\n",
    "check = pd.concat([test_df, train_df, val_df], axis=0)\n",
    "print(check.duplicated().sum())"
   ]
  },
  {
   "cell_type": "code",
   "execution_count": 19,
   "id": "3d1e2681-b280-43ce-a079-75fc6fdb3d68",
   "metadata": {},
   "outputs": [
    {
     "name": "stdout",
     "output_type": "stream",
     "text": [
      "  topics                                          sentences sentiments\n",
      "0      1                          slide giáo trình đầy đủ .          2\n",
      "1      0     nhiệt tình giảng dạy , gần gũi với sinh viên .          2\n",
      "2      1               đi học đầy đủ full điểm chuyên cần .          0\n",
      "3      0  chưa áp dụng công nghệ thông tin và các thiết ...          0\n",
      "4      0  thầy giảng bài hay , có nhiều bài tập ví dụ ng...          2\n"
     ]
    }
   ],
   "source": [
    "print(train_df.head(5))"
   ]
  },
  {
   "cell_type": "code",
   "execution_count": 20,
   "id": "6b3c6d40-8ae1-4382-88c4-151a6d0a3644",
   "metadata": {},
   "outputs": [
    {
     "name": "stdout",
     "output_type": "stream",
     "text": [
      "Số lần 'colonsmile' xuất hiện: 39\n",
      "Số lần 'colonsad' xuất hiện: 13\n",
      "Số lần 'colonsurprise' xuất hiện: 1\n",
      "Số lần 'colonlove' xuất hiện: 7\n",
      "Số lần 'colonsmilesmile' xuất hiện: 12\n",
      "Số lần 'coloncontemn' xuất hiện: 9\n",
      "Số lần 'colonbigsmile' xuất hiện: 5\n",
      "Số lần 'coloncc' xuất hiện: 0\n",
      "Số lần 'colonsmallsmile' xuất hiện: 4\n",
      "Số lần 'coloncolon' xuất hiện: 1\n",
      "Số lần 'colonlovelove' xuất hiện: 0\n",
      "Số lần 'colonhihi' xuất hiện: 3\n",
      "Số lần 'colonsadcolon' xuất hiện: 2\n",
      "Số lần 'colondoublesurprise' xuất hiện: 3\n",
      "Số lần 'vdotv' xuất hiện: 8\n",
      "Số lần 'dotdotdot' xuất hiện: 5\n",
      "Số lần 'fraction' xuất hiện: 18\n",
      "Số lần 'cshrap' xuất hiện: 0\n"
     ]
    }
   ],
   "source": [
    "emotion_words = ['colonsmile', 'colonsad', 'colonsurprise', 'colonlove', 'colonsmilesmile', \n",
    "                 'coloncontemn', 'colonbigsmile', 'coloncc', 'colonsmallsmile', 'coloncolon',\n",
    "                 'colonlovelove', 'colonhihi', 'colonsadcolon', 'colondoublesurprise', \n",
    "                 'vdotv', 'dotdotdot', 'fraction', 'cshrap']\n",
    "\n",
    "# Đếm số lần các từ này xuất hiện trong cột 'sentences' của DataFrame train_df\n",
    "for word in emotion_words:\n",
    "    count = train_df['sentences'].str.contains(word).sum()\n",
    "    print(f\"Số lần '{word}' xuất hiện: {count}\")"
   ]
  },
  {
   "cell_type": "markdown",
   "id": "36400b9b-48d7-4fa7-8813-d3362201809b",
   "metadata": {},
   "source": [
    "### Bước 3: Tiền xử lý dữ liệu"
   ]
  },
  {
   "cell_type": "code",
   "execution_count": 21,
   "id": "f768ece9-31c9-40e7-b88f-ccd33f95f944",
   "metadata": {},
   "outputs": [],
   "source": [
    "stop_words = []\n",
    "with open(\"Data/vnesestopwords.txt\", encoding=\"utf-8\") as f :\n",
    "    text = f.read()\n",
    "    for word in text.split('\\n'):\n",
    "        stop_words.append(word)\n",
    "    f.close()\n",
    "\n",
    "def TienXuLy(text, stop_words):\n",
    "    text = text.strip().lower()\n",
    "    # Loại bỏ dấu câu và ký tự đặc biệt\n",
    "    text = re.sub(r'[^a-zA-Z0-9àáạảãâầấậẩẫăằắặẳẵèéẹẻẽêềếệểễìíịỉĩòóọỏõôồốộổỗơờớợởỡùúụủũưừứựửữỳýỵỷỹđ\\s]', '', text)\n",
    "    \n",
    "    \n",
    "    # Loại bỏ từ dừng\n",
    "    #text = ' '.join(word for word in text.split() if word not in stop_words)\n",
    "    \n",
    "    return text\n",
    "\n"
   ]
  },
  {
   "cell_type": "code",
   "execution_count": 22,
   "id": "65c7a0b1-1f02-4dd9-a8f5-a2dfd094eab8",
   "metadata": {},
   "outputs": [],
   "source": [
    "# Áp dụng hàm tiền xử lý lên các tập dữ liệu\n",
    "train_df['sentences'] = train_df['sentences'].apply(lambda x: TienXuLy(x, stop_words))\n",
    "test_df['sentences'] = test_df['sentences'].apply(lambda x: TienXuLy(x, stop_words))\n",
    "val_df['sentences'] = val_df['sentences'].apply(lambda x: TienXuLy(x, stop_words))\n",
    "\n",
    "# Chuyển đổi cột sentiments từ object sang số\n",
    "train_df[\"sentiments\"] = train_df[\"sentiments\"].astype(int)\n",
    "test_df[\"sentiments\"] = test_df[\"sentiments\"].astype(int)\n",
    "val_df[\"sentiments\"] = val_df[\"sentiments\"].astype(int)"
   ]
  },
  {
   "cell_type": "code",
   "execution_count": null,
   "id": "b51260b0-803a-4c44-a60a-e004ec461201",
   "metadata": {},
   "outputs": [],
   "source": []
  },
  {
   "cell_type": "code",
   "execution_count": 23,
   "id": "64ae605e-75a8-48e7-a1a4-26c061771905",
   "metadata": {},
   "outputs": [
    {
     "name": "stdout",
     "output_type": "stream",
     "text": [
      "\n",
      " Thông tin file train:\n",
      "\n",
      "<class 'pandas.core.frame.DataFrame'>\n",
      "RangeIndex: 11426 entries, 0 to 11425\n",
      "Data columns (total 3 columns):\n",
      " #   Column      Non-Null Count  Dtype \n",
      "---  ------      --------------  ----- \n",
      " 0   topics      11426 non-null  object\n",
      " 1   sentences   11426 non-null  object\n",
      " 2   sentiments  11426 non-null  int32 \n",
      "dtypes: int32(1), object(2)\n",
      "memory usage: 223.3+ KB\n",
      "None\n",
      "\n",
      " Thông tin file test:\n",
      "\n",
      "<class 'pandas.core.frame.DataFrame'>\n",
      "RangeIndex: 3166 entries, 0 to 3165\n",
      "Data columns (total 3 columns):\n",
      " #   Column      Non-Null Count  Dtype \n",
      "---  ------      --------------  ----- \n",
      " 0   topics      3166 non-null   object\n",
      " 1   sentences   3166 non-null   object\n",
      " 2   sentiments  3166 non-null   int32 \n",
      "dtypes: int32(1), object(2)\n",
      "memory usage: 62.0+ KB\n",
      "None\n",
      "\n",
      " Thông tin file valid:\n",
      "\n",
      "<class 'pandas.core.frame.DataFrame'>\n",
      "RangeIndex: 1583 entries, 0 to 1582\n",
      "Data columns (total 3 columns):\n",
      " #   Column      Non-Null Count  Dtype \n",
      "---  ------      --------------  ----- \n",
      " 0   topics      1583 non-null   object\n",
      " 1   sentences   1583 non-null   object\n",
      " 2   sentiments  1583 non-null   int32 \n",
      "dtypes: int32(1), object(2)\n",
      "memory usage: 31.0+ KB\n",
      "None\n"
     ]
    }
   ],
   "source": [
    "print (\"\\n Thông tin file train:\\n\")\n",
    "print (train_df.info())\n",
    "print (\"\\n Thông tin file test:\\n\")\n",
    "print (test_df.info())\n",
    "print (\"\\n Thông tin file valid:\\n\")\n",
    "print (val_df.info())"
   ]
  },
  {
   "cell_type": "markdown",
   "id": "1396e097-a3cb-4969-b991-e91a888c9b41",
   "metadata": {},
   "source": [
    "Kết hợp dữ liệu train và valid để huấn luyện"
   ]
  },
  {
   "cell_type": "code",
   "execution_count": 24,
   "id": "033d753b-e4f8-4b11-a504-70ce30a064be",
   "metadata": {},
   "outputs": [
    {
     "name": "stdout",
     "output_type": "stream",
     "text": [
      "<class 'pandas.core.frame.DataFrame'>\n",
      "RangeIndex: 13009 entries, 0 to 13008\n",
      "Data columns (total 3 columns):\n",
      " #   Column      Non-Null Count  Dtype \n",
      "---  ------      --------------  ----- \n",
      " 0   topics      13009 non-null  object\n",
      " 1   sentences   13009 non-null  object\n",
      " 2   sentiments  13009 non-null  int32 \n",
      "dtypes: int32(1), object(2)\n",
      "memory usage: 254.2+ KB\n",
      "None\n",
      "Số lượng dòng trùng lặp sau khi gộp:  56\n",
      "Kích thước tập train sau khi loại bỏ trùng lặp: (12953, 3)\n"
     ]
    }
   ],
   "source": [
    "train_df = pd.concat([train_df, val_df], axis=0, ignore_index=True)\n",
    "print (train_df.info())\n",
    "\n",
    "# Kiểm tra dữ liệu trùng lặp và loại bỏ\n",
    "print(f\"Số lượng dòng trùng lặp sau khi gộp: \",train_df.duplicated().sum())\n",
    "\n",
    "# Loại bỏ trùng lặp\n",
    "train_df = train_df.drop_duplicates()\n",
    "print(\"Kích thước tập train sau khi loại bỏ trùng lặp:\", train_df.shape)"
   ]
  },
  {
   "cell_type": "code",
   "execution_count": 25,
   "id": "545a0153-1d4f-486b-b417-601650a0bbbc",
   "metadata": {},
   "outputs": [
    {
     "data": {
      "image/png": "[encoded data removed]",
      "text/plain": [
       "<Figure size 800x600 with 1 Axes>"
      ]
     },
     "metadata": {},
     "output_type": "display_data"
    }
   ],
   "source": [
    "# Biểu đồ đếm chủ đề cho dữ liệu train\n",
    "plt.figure(figsize=(8, 6))\n",
    "sns.countplot(x=\"topics\", data=train_df, hue=\"topics\", palette=\"viridis\", order=[0, 1, 2, 3], legend=False)\n",
    "\n",
    "plt.title(\"Phân Phối Chủ Đề trong Dữ Liệu Huấn Luyện\")\n",
    "plt.xlabel(\"Chủ Đề\")\n",
    "plt.ylabel(\"Số Lượng\")\n",
    "plt.tight_layout()\n",
    "plt.show()"
   ]
  },
  {
   "cell_type": "code",
   "execution_count": 26,
   "id": "9aa01f75-a9d1-4ea5-8544-6f203229666f",
   "metadata": {},
   "outputs": [
    {
     "data": {
      "image/png": "[encoded data removed]",
      "text/plain": [
       "<Figure size 1000x600 with 1 Axes>"
      ]
     },
     "metadata": {},
     "output_type": "display_data"
    }
   ],
   "source": [
    "# Biểu đồ đếm sentiment cho dữ liệu train\n",
    "plt.figure(figsize=(10, 6))\n",
    "sns.countplot(x=\"sentiments\", data=train_df, hue=\"sentiments\", palette=\"viridis\", order=sorted(train_df[\"sentiments\"].unique()), legend=False)\n",
    "\n",
    "plt.title(\"Phân phối Cảm Xúc trong Dữ Liệu Huấn Luyện\")\n",
    "plt.xlabel(\"Cảm Xúc\")\n",
    "plt.ylabel(\"Số Lượng\")\n",
    "plt.show()"
   ]
  },
  {
   "cell_type": "code",
   "execution_count": 27,
   "id": "8ef59b29-30d1-45a3-ab1f-a80f24960613",
   "metadata": {},
   "outputs": [
    {
     "name": "stdout",
     "output_type": "stream",
     "text": [
      "Mô hình Logistic Regression:\n",
      "Accuracy: 0.8828174352495262\n",
      "\n",
      "Classification Report:\n",
      "               precision    recall  f1-score   support\n",
      "\n",
      "           0       0.85      0.95      0.90      1409\n",
      "           1       0.64      0.10      0.17       167\n",
      "           2       0.91      0.91      0.91      1590\n",
      "\n",
      "    accuracy                           0.88      3166\n",
      "   macro avg       0.80      0.65      0.66      3166\n",
      "weighted avg       0.87      0.88      0.87      3166\n",
      "\n"
     ]
    }
   ],
   "source": [
    "from sklearn.feature_extraction.text import TfidfVectorizer\n",
    "from sklearn.linear_model import LogisticRegression\n",
    "from sklearn.metrics import accuracy_score, classification_report\n",
    "from sklearn.model_selection import GridSearchCV  # Để tìm tham số tối ưu\n",
    "\n",
    "# Sử dụng trực tiếp dữ liệu từ train_df và test_df\n",
    "X_train = train_df['sentences']  # Cột chứa văn bản trong tập huấn luyện\n",
    "y_train = train_df['sentiments']  # Cột chứa nhãn cảm xúc trong tập huấn luyện\n",
    "\n",
    "X_test = test_df['sentences']  # Cột chứa văn bản trong tập kiểm tra\n",
    "y_test = test_df['sentiments']  # Cột chứa nhãn cảm xúc trong tập kiểm tra\n",
    "\n",
    "# Vector hóa văn bản bằng TF-IDF\n",
    "vectorizer = TfidfVectorizer(max_features=5000)  # Chỉ lấy 5000 từ phổ biến nhất\n",
    "X_train_tfidf = vectorizer.fit_transform(X_train)\n",
    "X_test_tfidf = vectorizer.transform(X_test)\n",
    "\n",
    "# Xây dựng mô hình Logistic Regression\n",
    "model = LogisticRegression()\n",
    "model.fit(X_train_tfidf, y_train)\n",
    "\n",
    "# Dự đoán trên tập test\n",
    "y_pred = model.predict(X_test_tfidf)\n",
    "\n",
    "# Đánh giá mô hình\n",
    "print(\"Mô hình Logistic Regression:\")\n",
    "print(\"Accuracy:\", accuracy_score(y_test, y_pred))\n",
    "print(\"\\nClassification Report:\\n\", classification_report(y_test, y_pred))"
   ]
  },
  {
   "cell_type": "code",
   "execution_count": 28,
   "id": "6a77cd2a-ea48-44f7-977f-33243c26dfaa",
   "metadata": {},
   "outputs": [
    {
     "name": "stdout",
     "output_type": "stream",
     "text": [
      "Mô hình Random Forest:\n",
      "Độ chính xác: 0.8768161718256475\n",
      "\n",
      "Classification Report:\n",
      "               precision    recall  f1-score   support\n",
      "\n",
      "           0       0.84      0.94      0.89      1409\n",
      "           1       0.75      0.14      0.24       167\n",
      "           2       0.92      0.89      0.91      1590\n",
      "\n",
      "    accuracy                           0.88      3166\n",
      "   macro avg       0.84      0.66      0.68      3166\n",
      "weighted avg       0.87      0.88      0.86      3166\n",
      "\n"
     ]
    }
   ],
   "source": [
    "from sklearn.ensemble import RandomForestClassifier\n",
    "\n",
    "# Tạo mô hình Random Forest\n",
    "rf_model = RandomForestClassifier(n_estimators=100, random_state=42)\n",
    "\n",
    "# Huấn luyện mô hình Random Forest\n",
    "rf_model.fit(X_train_tfidf, y_train)\n",
    "\n",
    "# Dự đoán trên tập kiểm tra\n",
    "y_pred_rf = rf_model.predict(X_test_tfidf)\n",
    "\n",
    "# Đánh giá mô hình Random Forest\n",
    "print(\"Mô hình Random Forest:\")\n",
    "print(\"Độ chính xác:\", accuracy_score(y_test, y_pred_rf))\n",
    "print(\"\\nClassification Report:\\n\", classification_report(y_test, y_pred_rf))"
   ]
  },
  {
   "cell_type": "code",
   "execution_count": 29,
   "id": "e034bfe9-4e89-4c4f-891e-8343dfc0bfb2",
   "metadata": {},
   "outputs": [
    {
     "name": "stdout",
     "output_type": "stream",
     "text": [
      "Mô hình SVM:\n",
      "Độ chính xác: 0.890397978521794\n",
      "\n",
      "Classification Report:\n",
      "               precision    recall  f1-score   support\n",
      "\n",
      "           0       0.86      0.96      0.91      1409\n",
      "           1       0.80      0.10      0.17       167\n",
      "           2       0.92      0.91      0.92      1590\n",
      "\n",
      "    accuracy                           0.89      3166\n",
      "   macro avg       0.86      0.66      0.67      3166\n",
      "weighted avg       0.89      0.89      0.87      3166\n",
      "\n"
     ]
    }
   ],
   "source": [
    "from sklearn.svm import SVC\n",
    "\n",
    "# Tạo mô hình SVM\n",
    "svm_model = SVC(kernel='linear')\n",
    "\n",
    "# Huấn luyện mô hình SVM\n",
    "svm_model.fit(X_train_tfidf, y_train)\n",
    "\n",
    "# Dự đoán trên tập kiểm tra\n",
    "y_pred_svm = svm_model.predict(X_test_tfidf)\n",
    "\n",
    "# Đánh giá mô hình SVM\n",
    "print(\"Mô hình SVM:\")\n",
    "print(\"Độ chính xác:\", accuracy_score(y_test, y_pred_svm))\n",
    "print(\"\\nClassification Report:\\n\", classification_report(y_test, y_pred_svm))"
   ]
  },
  {
   "cell_type": "code",
   "execution_count": 30,
   "id": "f35b0871-15bf-42b3-a5f6-f98111bb8c23",
   "metadata": {},
   "outputs": [
    {
     "name": "stdin",
     "output_type": "stream",
     "text": [
      "Nhập câu bạn muốn phân tích cảm xúc:  hay\n"
     ]
    },
    {
     "name": "stdout",
     "output_type": "stream",
     "text": [
      "Mô hình sử dụng:  LogisticRegression()\n",
      "Cảm xúc của câu bạn nhập là: Tích cực\n"
     ]
    }
   ],
   "source": [
    "# Bước 5: Hàm dự đoán cảm xúc cho một câu mới\n",
    "def predict_sentiment(input_text):\n",
    "    \n",
    "    input_text= TienXuLy(input_text,stop_words)\n",
    "    \n",
    "    # Vector hóa câu nhập vào\n",
    "    input_tfidf = vectorizer.transform([input_text])\n",
    "    \n",
    "    # Dự đoán với mô hình đã huấn luyện\n",
    "    prediction = model.predict(input_tfidf)\n",
    "    \n",
    "    # Chuyển kết quả thành nhãn cảm xúc tương ứng\n",
    "    if prediction == 0:\n",
    "        return \"Tiêu cực\"\n",
    "    elif prediction == 1:\n",
    "        return \"Trung lập\"\n",
    "    else:\n",
    "        return \"Tích cực\"\n",
    "\n",
    "# Nhập câu từ người dùng và dự đoán\n",
    "input_text = input(\"Nhập câu bạn muốn phân tích cảm xúc: \")\n",
    "result = predict_sentiment(input_text)\n",
    "print(\"Mô hình sử dụng: \",model)\n",
    "print(f\"Cảm xúc của câu bạn nhập là: {result}\")"
   ]
  },
  {
   "cell_type": "code",
   "execution_count": null,
   "id": "43fa03f6-a0c0-4014-945b-36c13afad5bf",
   "metadata": {},
   "outputs": [],
   "source": []
  }
 ],
 "metadata": {
  "kernelspec": {
   "display_name": "Python 3 (ipykernel)",
   "language": "python",
   "name": "python3"
  },
  "language_info": {
   "codemirror_mode": {
    "name": "ipython",
    "version": 3
   },
   "file_extension": ".py",
   "mimetype": "text/x-python",
   "name": "python",
   "nbconvert_exporter": "python",
   "pygments_lexer": "ipython3",
   "version": "3.12.4"
  }
 },
 "nbformat": 4,
 "nbformat_minor": 5
}
